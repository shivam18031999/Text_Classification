{
 "cells": [
  {
   "cell_type": "markdown",
   "metadata": {},
   "source": [
    "# Text Classification on 20newsgroup data"
   ]
  },
  {
   "cell_type": "code",
   "execution_count": 1,
   "metadata": {},
   "outputs": [],
   "source": [
    "from sklearn import datasets\n",
    "import matplotlib.pyplot as plt\n",
    "import numpy as np\n",
    "from sklearn.naive_bayes import MultinomialNB\n",
    "from sklearn.metrics import classification_report, confusion_matrix"
   ]
  },
  {
   "cell_type": "markdown",
   "metadata": {},
   "source": [
    "# taking 20_newsgroup as my training data "
   ]
  },
  {
   "cell_type": "code",
   "execution_count": 2,
   "metadata": {},
   "outputs": [],
   "source": [
    "# importing dataset from my directory\n",
    "from sklearn import datasets\n",
    "train_data = datasets.load_files(r\"C:\\Users\\shivamGarg\\Documents\\20_newsgroups\")"
   ]
  },
  {
   "cell_type": "code",
   "execution_count": 3,
   "metadata": {},
   "outputs": [
    {
     "name": "stdout",
     "output_type": "stream",
     "text": [
      "Length of input_train_data : 19997\n"
     ]
    }
   ],
   "source": [
    "# input_train_data will consist  all the document which i will used for classification\n",
    "# output_train_data is the list of all classes corresponding to each document\n",
    "input_train_data = train_data.data\n",
    "output_train_data = train_data.target\n",
    "print(\"Length of input_train_data :\",len(input_train_data))\n"
   ]
  },
  {
   "cell_type": "markdown",
   "metadata": {},
   "source": [
    "# Data Cleaning"
   ]
  },
  {
   "cell_type": "code",
   "execution_count": 4,
   "metadata": {},
   "outputs": [
    {
     "name": "stdout",
     "output_type": "stream",
     "text": [
      "['i', 'me', 'my', 'myself', 'we', 'our', 'ours', 'ourselves', 'you', \"you're\", \"you've\", \"you'll\", \"you'd\", 'your', 'yours', 'yourself', 'yourselves', 'he', 'him', 'his', 'himself', 'she', \"she's\", 'her', 'hers', 'herself', 'it', \"it's\", 'its', 'itself', 'they', 'them', 'their', 'theirs', 'themselves', 'what', 'which', 'who', 'whom', 'this', 'that', \"that'll\", 'these', 'those', 'am', 'is', 'are', 'was', 'were', 'be', 'been', 'being', 'have', 'has', 'had', 'having', 'do', 'does', 'did', 'doing', 'a', 'an', 'the', 'and', 'but', 'if', 'or', 'because', 'as', 'until', 'while', 'of', 'at', 'by', 'for', 'with', 'about', 'against', 'between', 'into', 'through', 'during', 'before', 'after', 'above', 'below', 'to', 'from', 'up', 'down', 'in', 'out', 'on', 'off', 'over', 'under', 'again', 'further', 'then', 'once', 'here', 'there', 'when', 'where', 'why', 'how', 'all', 'any', 'both', 'each', 'few', 'more', 'most', 'other', 'some', 'such', 'no', 'nor', 'not', 'only', 'own', 'same', 'so', 'than', 'too', 'very', 's', 't', 'can', 'will', 'just', 'don', \"don't\", 'should', \"should've\", 'now', 'd', 'll', 'm', 'o', 're', 've', 'y', 'ain', 'aren', \"aren't\", 'couldn', \"couldn't\", 'didn', \"didn't\", 'doesn', \"doesn't\", 'hadn', \"hadn't\", 'hasn', \"hasn't\", 'haven', \"haven't\", 'isn', \"isn't\", 'ma', 'mightn', \"mightn't\", 'mustn', \"mustn't\", 'needn', \"needn't\", 'shan', \"shan't\", 'shouldn', \"shouldn't\", 'wasn', \"wasn't\", 'weren', \"weren't\", 'won', \"won't\", 'wouldn', \"wouldn't\", 'path']\n",
      "\n",
      "['!', '\"', '#', '$', '%', '&', \"'\", '(', ')', '*', '+', ',', '-', '.', '/', ':', ';', '<', '=', '>', '?', '@', '[', '\\\\', ']', '^', '_', '`', '{', '|', '}', '~']\n"
     ]
    }
   ],
   "source": [
    "# importing libraries and modules\n",
    "from nltk.tokenize import word_tokenize\n",
    "from nltk.corpus import stopwords , wordnet\n",
    "from nltk import pos_tag\n",
    "from nltk.stem import WordNetLemmatizer\n",
    "import string \n",
    "from string import punctuation\n",
    "\n",
    "# importing English stopwords \n",
    "stop=stopwords.words('English')\n",
    "stop.append('path')\n",
    "print(stop)\n",
    "print()\n",
    "\n",
    "# importing punctuations\n",
    "punct=list(punctuation)\n",
    "print(punct)\n",
    "\n",
    "# lemmatizer is a process of converting a word to its base form according to the context\n",
    "lemmatizer=WordNetLemmatizer()"
   ]
  },
  {
   "cell_type": "code",
   "execution_count": 5,
   "metadata": {},
   "outputs": [],
   "source": [
    "#function to get part of speech understandable by lemmatizer\n",
    "def get_simple_pos(tag):\n",
    "    if tag.startswith('J'):\n",
    "        return wordnet.ADJ\n",
    "    elif tag.startswith('V'):\n",
    "        return wordnet.VERB\n",
    "    elif tag.startswith('N'):\n",
    "        return wordnet.NOUN\n",
    "    elif tag.startswith('R'):\n",
    "        return wordnet.ADV\n",
    "    else :\n",
    "        return wordnet.NOUN\n",
    "    \n",
    "# function to clean data    \n",
    "def data_cleaning(input_data):\n",
    "\n",
    "    output=[]\n",
    "    # traversing each document one by one \n",
    "    for i in range(len(input_data)):\n",
    "        \n",
    "        # currently my input document is of byte class so first converting it to string class\n",
    "        input_data_in_string=str(input_data[i])\n",
    "      \n",
    "        # converting my string document into list of characters \n",
    "        input_data_letters_list=list(input_data_in_string)\n",
    "        \n",
    "        # this loop is to remove \\n from the document \n",
    "        # if current character is n and its previous character is '\\' in list means in string form it is '\\n'\n",
    "        for i in range(len(input_data_letters_list)):\n",
    "            if i>0 and  input_data_letters_list[i]=='n' and input_data_letters_list[i-1]==\"\\\\\":\n",
    "                input_data_letters_list[i]=' '\n",
    "        # this loop is to remove punctuations and digits \n",
    "        for i in range(len(input_data_letters_list)):\n",
    "            if input_data_letters_list[i] in punct:\n",
    "                input_data_letters_list[i]=' '\n",
    "            elif input_data_letters_list[i]>='0' and input_data_letters_list[i]<='9':\n",
    "                input_data_letters_list[i]=' '\n",
    "        # again forming the original string from the list of characters\n",
    "        clean_string=''.join(input_data_letters_list)\n",
    "\n",
    "        # tokenizing my string ,i.e.. converting it in list of words \n",
    "        current_word_list = word_tokenize(clean_string.lower())\n",
    "        new_word_list=[]\n",
    "        # looping over each word of document\n",
    "        for w in current_word_list:\n",
    "            # only add this word to document if its length is greater than 2 and it is not a stopword\n",
    "            if len(w)>2 and w not in stop:\n",
    "                pos_=pos_tag([w])\n",
    "                clean_word = lemmatizer.lemmatize(w,get_simple_pos(pos_[0][1]))\n",
    "                new_word_list.append(clean_word)\n",
    "        \n",
    "        output.append(new_word_list)\n",
    "    return output     \n",
    "            \n",
    "    "
   ]
  },
  {
   "cell_type": "code",
   "execution_count": 6,
   "metadata": {
    "scrolled": true
   },
   "outputs": [
    {
     "name": "stdout",
     "output_type": "stream",
     "text": [
      "Length of cleaned_input_train_data : 19997\n"
     ]
    }
   ],
   "source": [
    "# cleaning the training_data\n",
    "cleaned_input_train_data = data_cleaning(input_train_data)\n",
    "print(\"Length of cleaned_input_train_data :\",len(cleaned_input_train_data))"
   ]
  },
  {
   "cell_type": "code",
   "execution_count": 7,
   "metadata": {},
   "outputs": [
    {
     "name": "stdout",
     "output_type": "stream",
     "text": [
      "Dictionary contains total  111656 keys\n",
      "Vocabulary contains total  5468 keys\n"
     ]
    }
   ],
   "source": [
    "# creating dictionary of words from my training_data_documents\n",
    "dictionary={}\n",
    "for document in cleaned_input_train_data:\n",
    "    for word in document:\n",
    "        if word in dictionary.keys():\n",
    "            dictionary[word]=dictionary[word]+1\n",
    "        elif len(word)>2 :\n",
    "            dictionary[word]=1\n",
    "print(\"Dictionary contains total \",len(dictionary.keys()),\"keys\" )\n",
    "# rather than using all words as features ,using approximately most frequent 5k words\n",
    "# creating new dictonary of words  , which is used as features\n",
    "vocabulary={}\n",
    "cut_off=80\n",
    "for key in dictionary:\n",
    "    if dictionary[key]>cut_off:\n",
    "         vocabulary[key]=dictionary[key]\n",
    "feature_list = list(vocabulary.keys())\n",
    "print(\"Vocabulary contains total \",len(vocabulary.keys()),\"keys\" )"
   ]
  },
  {
   "cell_type": "code",
   "execution_count": 8,
   "metadata": {},
   "outputs": [],
   "source": [
    "# creating a numpy array of dimension( num_datapoints x num_features)\n",
    "# num_datapoints equals to number of documents\n",
    "# num_feature equal to number of keys in my vocabulary\n",
    "def  create_dataset_from_string_data(input_data):\n",
    "            num_datapoints=len(input_data)\n",
    "            num_features=len(vocabulary.keys())\n",
    "            new_input_data=np.zeros((num_datapoints,num_features))\n",
    "            # creating my train_data from the documnets in the list X\n",
    "            current_row=0\n",
    "            for current_document in input_data:\n",
    "                    for word in current_document:\n",
    "                        if word in vocabulary.keys():\n",
    "                            pos_y = feature_list.index(word)\n",
    "                            new_input_data[current_row][pos_y] = new_input_data[current_row][pos_y]+1\n",
    "                    current_row=current_row+1\n",
    "            return new_input_data\n",
    "        "
   ]
  },
  {
   "cell_type": "code",
   "execution_count": 9,
   "metadata": {},
   "outputs": [
    {
     "name": "stdout",
     "output_type": "stream",
     "text": [
      "Dimension of training data  (19997, 5468)\n"
     ]
    },
    {
     "data": {
      "text/plain": [
       "array([[1., 2., 4., ..., 0., 0., 0.],\n",
       "       [2., 3., 4., ..., 0., 0., 0.],\n",
       "       [1., 1., 3., ..., 0., 0., 0.],\n",
       "       ...,\n",
       "       [1., 1., 1., ..., 0., 0., 0.],\n",
       "       [1., 1., 3., ..., 0., 0., 0.],\n",
       "       [1., 1., 1., ..., 0., 0., 0.]])"
      ]
     },
     "execution_count": 9,
     "metadata": {},
     "output_type": "execute_result"
    }
   ],
   "source": [
    "# final data used as input \n",
    "input_training_data = create_dataset_from_string_data(cleaned_input_train_data)\n",
    "print(\"Dimension of training data \",input_training_data.shape)\n",
    "input_training_data"
   ]
  },
  {
   "cell_type": "markdown",
   "metadata": {},
   "source": [
    "# implemening Naive bayes from scratch "
   ]
  },
  {
   "cell_type": "code",
   "execution_count": 10,
   "metadata": {},
   "outputs": [],
   "source": [
    "# fit function creates a dictionary input_dictionary  whose keys is classes(20 classes)\n",
    "# fit function also conatin a key named \"total_rows\" which is equal to the  len of Y_train\n",
    "# input_dictionary[current_class] is also a dictionary whose keys are features of training_data\n",
    "# input_dictionary[current_class] conatins two more key one is \"total_current_class_rows\" whose value equal to number of rows \n",
    "# corrosponds  to that class another is \"total_current_class_words\" which gives  all words( sum along rows then along column) \n",
    "# for that class\n",
    "def fit(input_training_data , output_training_data ):\n",
    "        input_dictionary = {}\n",
    "        class_values = set(output_training_data)\n",
    "        input_dictionary[\"total_rows\"] = len(output_training_data)\n",
    "        \n",
    "        # making dictionary for each class\n",
    "        for current_class in class_values:\n",
    "            input_dictionary[current_class] = {}\n",
    "            current_class_rows = (output_training_data == current_class)\n",
    "            input_training_current = input_training_data[current_class_rows]\n",
    "            output_training_current = output_training_data[current_class_rows]\n",
    "            input_dictionary[current_class][\"total_current_class_rows\"] = len(output_training_current)\n",
    "            columns_sum = np.sum(input_training_current,axis=0)\n",
    "            features_list = input_training_current.shape[1]\n",
    "            input_dictionary[current_class][\"total_current_class_words\"]=0\n",
    "            for j in range(features_list):\n",
    "                input_dictionary[current_class][j] = columns_sum[j]\n",
    "                input_dictionary[current_class][\"total_current_class_words\"] += columns_sum[j]\n",
    "        \n",
    "        # final dictionary\n",
    "        return input_dictionary         "
   ]
  },
  {
   "cell_type": "code",
   "execution_count": 11,
   "metadata": {},
   "outputs": [],
   "source": [
    "input_dictionary = fit(input_training_data , output_train_data)"
   ]
  },
  {
   "cell_type": "code",
   "execution_count": 12,
   "metadata": {},
   "outputs": [],
   "source": [
    "# calculates the probability for a particular class\n",
    "def probability(input_dictionary , current_row , current_class):\n",
    "    \n",
    "    # intializing the result with prob(y==curren_class)\n",
    "    output = np.log(input_dictionary[current_class][\"total_current_class_rows\"]) - np.log(input_dictionary[\"total_rows\"])\n",
    "    total_features = len(current_row)\n",
    "  \n",
    "    for current_feature in range(total_features):\n",
    "        count_current_class_words_with_current_feature = input_dictionary[current_class][current_feature]+1\n",
    "        count_current_class_total_words = input_dictionary[current_class][\"total_current_class_words\"] +total_features\n",
    "        # prob(current_feature/ y==current_class)\n",
    "        current_probablity =  current_row[current_feature]*(np.log(count_current_class_words_with_current_feature) - np.log(count_current_class_total_words))\n",
    "        output = output + current_probablity\n",
    "   \n",
    "    # probablity of current_class\n",
    "    return output"
   ]
  },
  {
   "cell_type": "code",
   "execution_count": 13,
   "metadata": {},
   "outputs": [],
   "source": [
    "# predict the class for a particular row\n",
    "def predictSinglePoint(input_dictionary , current_row ):\n",
    "    \n",
    "    # list of possible classes \n",
    "    classes = input_dictionary.keys()\n",
    "    best_prob=None\n",
    "    best_class=None\n",
    "    check=True\n",
    "    for current_class in classes:\n",
    "        if current_class==\"total_rows\":\n",
    "             continue\n",
    "\n",
    "        # finding probablity of each possible class \n",
    "        current_class_prob = probability(input_dictionary , current_row , current_class)\n",
    "        \n",
    "        # comparing with current probablity and updating if current class has more probablity then the previos one\n",
    "        if(check or current_class_prob>best_prob):\n",
    "            best_prob=current_class_prob\n",
    "            best_class=current_class\n",
    "        check=False\n",
    "    # returning the best_class which highest probablity corrosponds the input\n",
    "    return best_class    \n",
    "        "
   ]
  },
  {
   "cell_type": "code",
   "execution_count": 14,
   "metadata": {},
   "outputs": [],
   "source": [
    "# function to predict output \n",
    "def predict(input_dictionary ,input_test):\n",
    "    output_test=[]\n",
    "    for current_input in input_test:\n",
    "        current_ans = predictSinglePoint(input_dictionary ,current_input)\n",
    "        output_test.append(current_ans)\n",
    "    return output_test    "
   ]
  },
  {
   "cell_type": "code",
   "execution_count": 15,
   "metadata": {},
   "outputs": [],
   "source": [
    "# function to compare score \n",
    "def score(predicted_output,actual_output):\n",
    "        # count to maintain number of correct predicted values\n",
    "        count = 0\n",
    "        for i in range(len(predicted_output)):\n",
    "            if predicted_output[i] == actual_output[i]:\n",
    "                count+=1\n",
    "        # returning the score \n",
    "        return count/len(predicted_output)"
   ]
  },
  {
   "cell_type": "markdown",
   "metadata": {},
   "source": [
    "# taking mini_newsgroup as my test data "
   ]
  },
  {
   "cell_type": "code",
   "execution_count": 16,
   "metadata": {},
   "outputs": [],
   "source": [
    "#loading testing data\n",
    "test_data=datasets.load_files(r\"C:\\Users\\shivamGarg\\Documents\\mini_newsgroups\")\n"
   ]
  },
  {
   "cell_type": "code",
   "execution_count": 17,
   "metadata": {},
   "outputs": [
    {
     "name": "stdout",
     "output_type": "stream",
     "text": [
      "Length of input_test_data : 2000\n"
     ]
    }
   ],
   "source": [
    "# input_test_data consist of all the documnets for testing\n",
    "# output_test_data is the list of classes corrosponds to input_test_data documents\n",
    "input_test_data = test_data.data\n",
    "output_test_data = test_data.target\n",
    "print(\"Length of input_test_data :\",len(input_test_data))"
   ]
  },
  {
   "cell_type": "code",
   "execution_count": 18,
   "metadata": {},
   "outputs": [
    {
     "name": "stdout",
     "output_type": "stream",
     "text": [
      "Length of cleaned_input_test_data : 2000\n"
     ]
    }
   ],
   "source": [
    "# cleaning the testing_data\n",
    "cleaned_input_test_data = data_cleaning(input_test_data)\n",
    "print(\"Length of cleaned_input_test_data :\",len(cleaned_input_test_data))"
   ]
  },
  {
   "cell_type": "code",
   "execution_count": 19,
   "metadata": {},
   "outputs": [
    {
     "name": "stdout",
     "output_type": "stream",
     "text": [
      "Dimension of testing data  (2000, 5468)\n"
     ]
    },
    {
     "data": {
      "text/plain": [
       "array([[1., 2., 3., ..., 0., 0., 0.],\n",
       "       [1., 1., 3., ..., 0., 0., 0.],\n",
       "       [1., 2., 3., ..., 0., 0., 0.],\n",
       "       ...,\n",
       "       [1., 1., 1., ..., 0., 0., 0.],\n",
       "       [1., 1., 1., ..., 0., 0., 0.],\n",
       "       [1., 2., 4., ..., 0., 0., 0.]])"
      ]
     },
     "execution_count": 19,
     "metadata": {},
     "output_type": "execute_result"
    }
   ],
   "source": [
    "# final data used for testing \n",
    "input_testing_data = create_dataset_from_string_data(cleaned_input_test_data)\n",
    "print(\"Dimension of testing data \",input_testing_data.shape)\n",
    "input_testing_data"
   ]
  },
  {
   "cell_type": "code",
   "execution_count": 20,
   "metadata": {},
   "outputs": [],
   "source": [
    "# predicting the output corrosponds to testing data\n",
    "predicted_output = predict(input_dictionary,input_testing_data)"
   ]
  },
  {
   "cell_type": "code",
   "execution_count": 34,
   "metadata": {},
   "outputs": [
    {
     "name": "stdout",
     "output_type": "stream",
     "text": [
      "['alt.atheism', 'comp.graphics', 'comp.os.ms-windows.misc', 'comp.sys.ibm.pc.hardware', 'comp.sys.mac.hardware', 'comp.windows.x', 'misc.forsale', 'rec.autos', 'rec.motorcycles', 'rec.sport.baseball', 'rec.sport.hockey', 'sci.crypt', 'sci.electronics', 'sci.med', 'sci.space', 'soc.religion.christian', 'talk.politics.guns', 'talk.politics.mideast', 'talk.politics.misc', 'talk.religion.misc']\n"
     ]
    }
   ],
   "source": [
    "# actual classes name of output\n",
    "class_names = train_data.target_names\n",
    "print(class_names)"
   ]
  },
  {
   "cell_type": "code",
   "execution_count": 36,
   "metadata": {},
   "outputs": [
    {
     "name": "stdout",
     "output_type": "stream",
     "text": [
      "Score on test data from scratch :  91.9\n",
      "\n",
      "                          precision    recall  f1-score   support\n",
      "\n",
      "             alt.atheism       0.83      0.87      0.85       100\n",
      "           comp.graphics       0.88      0.86      0.87       100\n",
      " comp.os.ms-windows.misc       0.91      0.90      0.90       100\n",
      "comp.sys.ibm.pc.hardware       0.80      0.88      0.84       100\n",
      "   comp.sys.mac.hardware       0.88      0.95      0.91       100\n",
      "          comp.windows.x       0.97      0.85      0.90       100\n",
      "            misc.forsale       0.91      0.97      0.94       100\n",
      "               rec.autos       0.99      0.98      0.98       100\n",
      "         rec.motorcycles       0.95      0.99      0.97       100\n",
      "      rec.sport.baseball       0.99      0.98      0.98       100\n",
      "        rec.sport.hockey       0.99      0.97      0.98       100\n",
      "               sci.crypt       0.99      0.98      0.98       100\n",
      "         sci.electronics       0.94      0.93      0.93       100\n",
      "                 sci.med       0.98      0.97      0.97       100\n",
      "               sci.space       0.99      0.96      0.97       100\n",
      "  soc.religion.christian       0.98      0.99      0.99       100\n",
      "      talk.politics.guns       0.87      0.94      0.90       100\n",
      "   talk.politics.mideast       0.97      0.95      0.96       100\n",
      "      talk.politics.misc       0.85      0.75      0.80       100\n",
      "      talk.religion.misc       0.74      0.71      0.72       100\n",
      "\n",
      "               micro avg       0.92      0.92      0.92      2000\n",
      "               macro avg       0.92      0.92      0.92      2000\n",
      "            weighted avg       0.92      0.92      0.92      2000\n",
      "\n",
      "[[87  0  0  0  0  0  0  1  0  0  0  0  0  0  0  1  0  0  0 11]\n",
      " [ 0 86  3  6  0  2  2  0  0  0  0  0  1  0  0  0  0  0  0  0]\n",
      " [ 0  1 90  7  0  1  0  0  0  0  0  0  1  0  0  0  0  0  0  0]\n",
      " [ 0  0  3 88  7  0  2  0  0  0  0  0  0  0  0  0  0  0  0  0]\n",
      " [ 0  0  1  3 95  0  1  0  0  0  0  0  0  0  0  0  0  0  0  0]\n",
      " [ 0  6  2  3  1 85  1  0  1  0  0  0  0  1  0  0  0  0  0  0]\n",
      " [ 0  0  0  0  2  0 97  0  0  0  0  0  1  0  0  0  0  0  0  0]\n",
      " [ 0  0  0  0  0  0  0 98  0  0  0  0  2  0  0  0  0  0  0  0]\n",
      " [ 0  0  0  0  0  0  1  0 99  0  0  0  0  0  0  0  0  0  0  0]\n",
      " [ 0  0  0  0  0  0  1  0  0 98  1  0  0  0  0  0  0  0  0  0]\n",
      " [ 0  0  0  0  0  0  0  0  1  1 97  0  0  0  0  0  0  0  1  0]\n",
      " [ 0  0  0  0  0  0  1  0  0  0  0 98  0  1  0  0  0  0  0  0]\n",
      " [ 0  1  0  2  2  0  1  0  0  0  0  0 93  0  1  0  0  0  0  0]\n",
      " [ 0  1  0  0  0  0  0  0  2  0  0  0  0 97  0  0  0  0  0  0]\n",
      " [ 0  3  0  0  1  0  0  0  0  0  0  0  0  0 96  0  0  0  0  0]\n",
      " [ 0  0  0  0  0  0  0  0  0  0  0  0  1  0  0 99  0  0  0  0]\n",
      " [ 0  0  0  0  0  0  0  0  1  0  0  1  0  0  0  0 94  0  2  2]\n",
      " [ 0  0  0  1  0  0  0  0  0  0  0  0  0  0  0  0  0 95  4  0]\n",
      " [ 0  0  0  0  0  0  0  0  0  0  0  0  0  0  0  0 10  3 75 12]\n",
      " [18  0  0  0  0  0  0  0  0  0  0  0  0  0  0  1  4  0  6 71]]\n"
     ]
    }
   ],
   "source": [
    "predicted_output_class = []\n",
    "output_test_data_class = []\n",
    "\n",
    "for i in range(len(predicted_output)):\n",
    "            predicted_output_class.append(class_names[predicted_output[i]])\n",
    "            output_test_data_class.append(class_names[output_test_data[i]])\n",
    "\n",
    "print(\"Score on test data from scratch : \",score(predicted_output_class,output_test_data_class)*100)\n",
    "print()\n",
    "print(classification_report(output_test_data_class , predicted_output_class ))\n",
    "print(confusion_matrix( output_test_data_class ,predicted_output_class))"
   ]
  },
  {
   "cell_type": "code",
   "execution_count": 37,
   "metadata": {},
   "outputs": [
    {
     "data": {
      "text/plain": [
       "MultinomialNB(alpha=1.0, class_prior=None, fit_prior=True)"
      ]
     },
     "execution_count": 37,
     "metadata": {},
     "output_type": "execute_result"
    }
   ],
   "source": [
    "# now testing my data with inbuilt Multinomial NB\n",
    "# using training data to train inbuilt naive bayes algorithm\n",
    "clf = MultinomialNB()\n",
    "clf.fit(input_training_data , output_train_data)\n"
   ]
  },
  {
   "cell_type": "code",
   "execution_count": 38,
   "metadata": {},
   "outputs": [],
   "source": [
    "predicted_output_NB = clf.predict( input_testing_data )"
   ]
  },
  {
   "cell_type": "code",
   "execution_count": 39,
   "metadata": {},
   "outputs": [
    {
     "name": "stdout",
     "output_type": "stream",
     "text": [
      "Score on test data from Inbuilt NB :  91.9\n",
      "\n",
      "                          precision    recall  f1-score   support\n",
      "\n",
      "             alt.atheism       0.83      0.87      0.85       100\n",
      "           comp.graphics       0.88      0.86      0.87       100\n",
      " comp.os.ms-windows.misc       0.91      0.90      0.90       100\n",
      "comp.sys.ibm.pc.hardware       0.80      0.88      0.84       100\n",
      "   comp.sys.mac.hardware       0.88      0.95      0.91       100\n",
      "          comp.windows.x       0.97      0.85      0.90       100\n",
      "            misc.forsale       0.91      0.97      0.94       100\n",
      "               rec.autos       0.99      0.98      0.98       100\n",
      "         rec.motorcycles       0.95      0.99      0.97       100\n",
      "      rec.sport.baseball       0.99      0.98      0.98       100\n",
      "        rec.sport.hockey       0.99      0.97      0.98       100\n",
      "               sci.crypt       0.99      0.98      0.98       100\n",
      "         sci.electronics       0.94      0.93      0.93       100\n",
      "                 sci.med       0.98      0.97      0.97       100\n",
      "               sci.space       0.99      0.96      0.97       100\n",
      "  soc.religion.christian       0.98      0.99      0.99       100\n",
      "      talk.politics.guns       0.87      0.94      0.90       100\n",
      "   talk.politics.mideast       0.97      0.95      0.96       100\n",
      "      talk.politics.misc       0.85      0.75      0.80       100\n",
      "      talk.religion.misc       0.74      0.71      0.72       100\n",
      "\n",
      "               micro avg       0.92      0.92      0.92      2000\n",
      "               macro avg       0.92      0.92      0.92      2000\n",
      "            weighted avg       0.92      0.92      0.92      2000\n",
      "\n",
      "[[87  0  0  0  0  0  0  1  0  0  0  0  0  0  0  1  0  0  0 11]\n",
      " [ 0 86  3  6  0  2  2  0  0  0  0  0  1  0  0  0  0  0  0  0]\n",
      " [ 0  1 90  7  0  1  0  0  0  0  0  0  1  0  0  0  0  0  0  0]\n",
      " [ 0  0  3 88  7  0  2  0  0  0  0  0  0  0  0  0  0  0  0  0]\n",
      " [ 0  0  1  3 95  0  1  0  0  0  0  0  0  0  0  0  0  0  0  0]\n",
      " [ 0  6  2  3  1 85  1  0  1  0  0  0  0  1  0  0  0  0  0  0]\n",
      " [ 0  0  0  0  2  0 97  0  0  0  0  0  1  0  0  0  0  0  0  0]\n",
      " [ 0  0  0  0  0  0  0 98  0  0  0  0  2  0  0  0  0  0  0  0]\n",
      " [ 0  0  0  0  0  0  1  0 99  0  0  0  0  0  0  0  0  0  0  0]\n",
      " [ 0  0  0  0  0  0  1  0  0 98  1  0  0  0  0  0  0  0  0  0]\n",
      " [ 0  0  0  0  0  0  0  0  1  1 97  0  0  0  0  0  0  0  1  0]\n",
      " [ 0  0  0  0  0  0  1  0  0  0  0 98  0  1  0  0  0  0  0  0]\n",
      " [ 0  1  0  2  2  0  1  0  0  0  0  0 93  0  1  0  0  0  0  0]\n",
      " [ 0  1  0  0  0  0  0  0  2  0  0  0  0 97  0  0  0  0  0  0]\n",
      " [ 0  3  0  0  1  0  0  0  0  0  0  0  0  0 96  0  0  0  0  0]\n",
      " [ 0  0  0  0  0  0  0  0  0  0  0  0  1  0  0 99  0  0  0  0]\n",
      " [ 0  0  0  0  0  0  0  0  1  0  0  1  0  0  0  0 94  0  2  2]\n",
      " [ 0  0  0  1  0  0  0  0  0  0  0  0  0  0  0  0  0 95  4  0]\n",
      " [ 0  0  0  0  0  0  0  0  0  0  0  0  0  0  0  0 10  3 75 12]\n",
      " [18  0  0  0  0  0  0  0  0  0  0  0  0  0  0  1  4  0  6 71]]\n"
     ]
    }
   ],
   "source": [
    "\n",
    "predicted_output_class_NB = []\n",
    "\n",
    "for i in range(len(predicted_output)):\n",
    "            predicted_output_class_NB.append(class_names[predicted_output_NB[i]])\n",
    "\n",
    "print(\"Score on test data from Inbuilt NB : \",score(predicted_output_class_NB,output_test_data_class)*100)\n",
    "print()\n",
    "print(classification_report(output_test_data_class , predicted_output_class_NB ))\n",
    "print(confusion_matrix( output_test_data_class ,predicted_output_class_NB))\n",
    "       "
   ]
  },
  {
   "cell_type": "code",
   "execution_count": null,
   "metadata": {},
   "outputs": [],
   "source": []
  }
 ],
 "metadata": {
  "kernelspec": {
   "display_name": "Python 3",
   "language": "python",
   "name": "python3"
  },
  "language_info": {
   "codemirror_mode": {
    "name": "ipython",
    "version": 3
   },
   "file_extension": ".py",
   "mimetype": "text/x-python",
   "name": "python",
   "nbconvert_exporter": "python",
   "pygments_lexer": "ipython3",
   "version": "3.7.3"
  }
 },
 "nbformat": 4,
 "nbformat_minor": 2
}
