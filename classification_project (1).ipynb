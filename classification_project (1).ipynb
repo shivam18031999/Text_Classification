{
 "cells": [
  {
   "cell_type": "markdown",
   "metadata": {},
   "source": [
    "# shivam garg"
   ]
  },
  {
   "cell_type": "code",
   "execution_count": 5,
   "metadata": {},
   "outputs": [],
   "source": [
    "from sklearn import datasets\n",
    "import nltk\n",
    "import re\n",
    "import matplotlib.pyplot as plt\n",
    "import numpy as np\n",
    "from sklearn.naive_bayes import MultinomialNB\n",
    "from nltk.corpus import stopwords\n",
    "from sklearn.metrics import classification_report, confusion_matrix"
   ]
  },
  {
   "cell_type": "markdown",
   "metadata": {},
   "source": [
    "# taking 20_newsgroup as my training data "
   ]
  },
  {
   "cell_type": "code",
   "execution_count": 6,
   "metadata": {},
   "outputs": [],
   "source": [
    "from sklearn import datasets\n",
    "data1=datasets.load_files(r\"C:\\Users\\shivamGarg\\Documents\\20_newsgroups\")"
   ]
  },
  {
   "cell_type": "code",
   "execution_count": 24,
   "metadata": {},
   "outputs": [],
   "source": [
    "# x consist of all the document which i used for classification\n",
    "# y_train is the list of classes corresponding to each document\n",
    "x=data1.data\n",
    "Y_train=data1.target\n"
   ]
  },
  {
   "cell_type": "code",
   "execution_count": 8,
   "metadata": {},
   "outputs": [
    {
     "name": "stdout",
     "output_type": "stream",
     "text": [
      "['i', 'me', 'my', 'myself', 'we', 'our', 'ours', 'ourselves', 'you', \"you're\", \"you've\", \"you'll\", \"you'd\", 'your', 'yours', 'yourself', 'yourselves', 'he', 'him', 'his', 'himself', 'she', \"she's\", 'her', 'hers', 'herself', 'it', \"it's\", 'its', 'itself', 'they', 'them', 'their', 'theirs', 'themselves', 'what', 'which', 'who', 'whom', 'this', 'that', \"that'll\", 'these', 'those', 'am', 'is', 'are', 'was', 'were', 'be', 'been', 'being', 'have', 'has', 'had', 'having', 'do', 'does', 'did', 'doing', 'a', 'an', 'the', 'and', 'but', 'if', 'or', 'because', 'as', 'until', 'while', 'of', 'at', 'by', 'for', 'with', 'about', 'against', 'between', 'into', 'through', 'during', 'before', 'after', 'above', 'below', 'to', 'from', 'up', 'down', 'in', 'out', 'on', 'off', 'over', 'under', 'again', 'further', 'then', 'once', 'here', 'there', 'when', 'where', 'why', 'how', 'all', 'any', 'both', 'each', 'few', 'more', 'most', 'other', 'some', 'such', 'no', 'nor', 'not', 'only', 'own', 'same', 'so', 'than', 'too', 'very', 's', 't', 'can', 'will', 'just', 'don', \"don't\", 'should', \"should've\", 'now', 'd', 'll', 'm', 'o', 're', 've', 'y', 'ain', 'aren', \"aren't\", 'couldn', \"couldn't\", 'didn', \"didn't\", 'doesn', \"doesn't\", 'hadn', \"hadn't\", 'hasn', \"hasn't\", 'haven', \"haven't\", 'isn', \"isn't\", 'ma', 'mightn', \"mightn't\", 'mustn', \"mustn't\", 'needn', \"needn't\", 'shan', \"shan't\", 'shouldn', \"shouldn't\", 'wasn', \"wasn't\", 'weren', \"weren't\", 'won', \"won't\", 'wouldn', \"wouldn't\"]\n"
     ]
    },
    {
     "name": "stderr",
     "output_type": "stream",
     "text": [
      "[nltk_data] Downloading package stopwords to\n",
      "[nltk_data]     C:\\Users\\shivamGarg\\AppData\\Roaming\\nltk_data...\n",
      "[nltk_data]   Package stopwords is already up-to-date!\n"
     ]
    }
   ],
   "source": [
    "# downloading stopwords\n",
    "nltk.download(\"stopwords\")\n",
    "stop_words=(stopwords.words(\"english\"))\n",
    "print(stop_words)"
   ]
  },
  {
   "cell_type": "markdown",
   "metadata": {},
   "source": [
    "# data cleaning"
   ]
  },
  {
   "cell_type": "code",
   "execution_count": 10,
   "metadata": {},
   "outputs": [],
   "source": [
    "\n",
    "X=[]\n",
    "\n",
    "for i in range(len(x)):\n",
    "    # to remove all the special character\n",
    "    document = re.sub(r'\\W', ' ', str(x[i]))\n",
    "    \n",
    "    # to convert multiple spaces into single spaces\n",
    "    document = re.sub(r'\\s+', ' ', document, flags=re.I)\n",
    "    \n",
    "    # removed prefixed b\n",
    "    document = re.sub(r'^b\\s+', '', document)\n",
    "    \n",
    "    # remove integers\n",
    "    document = re.sub(r'\\d+', '', document)\n",
    "    \n",
    "    # convert all words into lowerletter\n",
    "    document = document.lower()\n",
    "    \n",
    "    X.append(document)\n",
    "\n"
   ]
  },
  {
   "cell_type": "markdown",
   "metadata": {},
   "source": [
    "# creating my dictionary of words"
   ]
  },
  {
   "cell_type": "code",
   "execution_count": 12,
   "metadata": {},
   "outputs": [],
   "source": [
    "dictionary={}\n",
    "#document equals to each document in X\n",
    "#word_list is the list of all the words in document\n",
    "#this dictionary consist of words of lenght more than 2 and also not a stopword\n",
    "for document in X:\n",
    "    words_list=document.split()\n",
    "    for word in words_list:\n",
    "        if word in stop_words:\n",
    "            continue\n",
    "        elif (len(word)>2) and (word in dictionary.keys()):\n",
    "            dictionary[word]=dictionary[word]+1\n",
    "        elif (len(word)>2):\n",
    "            dictionary[word]=1"
   ]
  },
  {
   "cell_type": "code",
   "execution_count": 15,
   "metadata": {},
   "outputs": [
    {
     "data": {
      "image/png": "[encoded data removed]",
      "text/plain": [
       "<Figure size 432x288 with 1 Axes>"
      ]
     },
     "metadata": {
      "needs_background": "light"
     },
     "output_type": "display_data"
    }
   ],
   "source": [
    "#plotting the dictinary\n",
    "\n",
    "a=max(dictionary.values())\n",
    "num_word=[0 for i in range(a+1)]\n",
    "frequency=[i for i in range(a+1)]\n",
    "for key in dictionary:\n",
    "    num_word[dictionary[key]]=num_word[dictionary[key]]+1\n",
    "plt.plot(num_word,frequency)\n",
    "plt.xlabel(\"num of word\")\n",
    "plt.ylabel(\"frequency\")\n",
    "plt.axis([0,10000,1,100])\n",
    "plt.grid()\n",
    "plt.show()"
   ]
  },
  {
   "cell_type": "code",
   "execution_count": 68,
   "metadata": {},
   "outputs": [
    {
     "data": {
      "text/plain": [
       "5408"
      ]
     },
     "execution_count": 68,
     "metadata": {},
     "output_type": "execute_result"
    }
   ],
   "source": [
    "# creating a new dictionary named vocabulary by cleaning those words whose frequency less than cutoff frequency\n",
    "cutoff=100\n",
    "vocabulary={}\n",
    "for key in dictionary:\n",
    "    if dictionary[key]>cutoff:\n",
    "         vocabulary[key]=dictionary[key]\n",
    "feature_list=list(vocabulary.keys())\n",
    "\n",
    "# number of columns in my classification is\n",
    "len(vocabulary.keys())"
   ]
  },
  {
   "cell_type": "code",
   "execution_count": null,
   "metadata": {},
   "outputs": [],
   "source": []
  },
  {
   "cell_type": "code",
   "execution_count": 69,
   "metadata": {},
   "outputs": [],
   "source": [
    "# creating a numpy array of dimension( num_datapoints x num_features)\n",
    "# num_datapoints equals to number of documents\n",
    "# num_feature equal to number of keys in my vocabulary\n",
    "num_datapoints=len(X)\n",
    "num_features=len(vocabulary.keys())\n",
    "train_data=np.zeros((num_datapoints,num_features))\n",
    "\n",
    "# creating my train_data from the documnets in the list X\n",
    "i=0\n",
    "for doc in X:\n",
    "        word_list=doc.split()\n",
    "        for word in word_list:\n",
    "            if word in vocabulary.keys():\n",
    "                        pos_x=i\n",
    "                        pos_y=feature_list.index(word)\n",
    "                        train_data[pos_x][pos_y]=train_data[pos_x][pos_y]+1\n",
    "        i=i+1   \n",
    "        "
   ]
  },
  {
   "cell_type": "code",
   "execution_count": 70,
   "metadata": {},
   "outputs": [
    {
     "data": {
      "text/plain": [
       "array([[1., 1., 2., ..., 0., 0., 0.],\n",
       "       [0., 2., 3., ..., 0., 0., 0.],\n",
       "       [1., 1., 1., ..., 0., 0., 0.],\n",
       "       ...,\n",
       "       [0., 1., 1., ..., 0., 0., 0.],\n",
       "       [0., 1., 1., ..., 0., 0., 0.],\n",
       "       [0., 1., 1., ..., 0., 0., 0.]])"
      ]
     },
     "execution_count": 70,
     "metadata": {},
     "output_type": "execute_result"
    }
   ],
   "source": [
    "train_data"
   ]
  },
  {
   "cell_type": "markdown",
   "metadata": {},
   "source": [
    "# implemening Naive bayes from scratch "
   ]
  },
  {
   "cell_type": "code",
   "execution_count": 71,
   "metadata": {},
   "outputs": [],
   "source": [
    "# fit function creates a dictionary result  whose keys is classes(20 classes)\n",
    "# fit function also conatin a key named \"total_data\" which is equal to the  len of Y_train\n",
    "# result[current_class] is also a dictionary whose keys are features of train_data\n",
    "# result[current_class] conatins two more key one is \"total_count_rows\" whose value equal to number of rows corr. to that class\n",
    "# another is \"total_count_words\" which gives me the all words( sum along rows then along column) for that class\n",
    "def fit(X_train,Y_train):\n",
    "        result={}\n",
    "        class_values=set(Y_train)\n",
    "        result[\"total_data\"]=len(Y_train)\n",
    "        for current_class in class_values:\n",
    "            result[current_class]={}\n",
    "            current_class_rows=(Y_train==current_class)\n",
    "            X_train_current=X_train[current_class_rows]\n",
    "            Y_train_current=Y_train[current_class_rows]\n",
    "            result[current_class][\"total_count_rows\"]=len(Y_train_current)\n",
    "            columns_sum=np.sum(X_train_current,axis=0)\n",
    "            features_list=X_train_current.shape[1]\n",
    "            result[current_class][\"total_count_words\"]=0\n",
    "            for j in range(features_list):\n",
    "                result[current_class][j]=columns_sum[j]\n",
    "                result[current_class][\"total_count_words\"]+=columns_sum[j]\n",
    "        return result        \n",
    "                \n",
    "\n",
    "            \n",
    "            \n",
    "            "
   ]
  },
  {
   "cell_type": "code",
   "execution_count": 72,
   "metadata": {},
   "outputs": [],
   "source": [
    "final_dict=fit(train_data,Y_train)"
   ]
  },
  {
   "cell_type": "code",
   "execution_count": 73,
   "metadata": {},
   "outputs": [],
   "source": [
    "# calculates the prbability\n",
    "def probability(dictionary,X,current_class):\n",
    "    output = np.log(dictionary[current_class][\"total_count_rows\"]) - np.log(dictionary[\"total_data\"])\n",
    "    total_words = len(X)\n",
    "  \n",
    "    for j in range(total_words ):\n",
    "        count_current_class_with_word = dictionary[current_class][j]+1\n",
    "        count_current_class = dictionary[current_class][\"total_count_words\"] +total_words\n",
    "        current_probablity =  X[j]*(np.log(count_current_class_with_word) - np.log(count_current_class))\n",
    "        output = output + current_probablity\n",
    "    return output"
   ]
  },
  {
   "cell_type": "code",
   "execution_count": 74,
   "metadata": {},
   "outputs": [],
   "source": [
    "#predict the class for a particular row\n",
    "def predictSinglePoint(dictionary,X):\n",
    "    classes=dictionary.keys()\n",
    "    best_p=None\n",
    "    best_class=None\n",
    "    check=True\n",
    "    for current_class in classes:\n",
    "        if current_class==\"total_data\":\n",
    "             continue\n",
    "        current_class_prob=probability(dictionary,X,current_class)\n",
    "        if(check or current_class_prob>best_p):\n",
    "            best_p=current_class_prob\n",
    "            best_class=current_class\n",
    "        check=False\n",
    "    return best_class    \n",
    "        "
   ]
  },
  {
   "cell_type": "code",
   "execution_count": 75,
   "metadata": {},
   "outputs": [],
   "source": [
    "\n",
    "def predict(dictionary,X_test):\n",
    "    Y_test=[]\n",
    "    for test in X_test:\n",
    "        ans=predictSinglePoint(dictionary,test)\n",
    "        Y_test.append(ans)\n",
    "    return Y_test    "
   ]
  },
  {
   "cell_type": "code",
   "execution_count": 76,
   "metadata": {},
   "outputs": [],
   "source": [
    "def score(Y_pred,Y_true):\n",
    "        \n",
    "        count = 0\n",
    "        for i in range(len(Y_pred)):\n",
    "            if Y_pred[i] == Y_true[i]:\n",
    "                count+=1\n",
    "        return count/len(Y_pred)"
   ]
  },
  {
   "cell_type": "markdown",
   "metadata": {},
   "source": [
    "# taking mini_newsgroup as my test data "
   ]
  },
  {
   "cell_type": "code",
   "execution_count": 77,
   "metadata": {},
   "outputs": [],
   "source": [
    "\n",
    "test_data=datasets.load_files(r\"C:\\Users\\shivamGarg\\Documents\\mini_newsgroups\")"
   ]
  },
  {
   "cell_type": "code",
   "execution_count": 78,
   "metadata": {},
   "outputs": [],
   "source": [
    "# x_test consist of all the documnets for testing\n",
    "# Y_test is the list of classes corrosponds to X_test documents\n",
    "x_test=test_data.data\n",
    "Y_test=test_data.target"
   ]
  },
  {
   "cell_type": "code",
   "execution_count": 79,
   "metadata": {},
   "outputs": [
    {
     "data": {
      "text/plain": [
       "2000"
      ]
     },
     "execution_count": 79,
     "metadata": {},
     "output_type": "execute_result"
    }
   ],
   "source": [
    "# X_test consist of clean documnets \n",
    "X_test=[]\n",
    "for i in range(len(x_test)):\n",
    "    # to remove all the special character\n",
    "    document = re.sub(r'\\W', ' ', str(x_test[i]))\n",
    "    \n",
    "    # to convert multiple spaces into single spaces\n",
    "    document = re.sub(r'\\s+', ' ', document, flags=re.I)\n",
    "    \n",
    "    # removed prefixed b\n",
    "    document = re.sub(r'^b\\s+', '', document)\n",
    "    \n",
    "    # remove integers\n",
    "    document = re.sub(r'\\d+', '', document)\n",
    "    \n",
    "    # convert all words into lowerletter\n",
    "    document = document.lower()\n",
    "    \n",
    "    X_test.append(document)\n",
    "\n",
    "\n",
    "len(X_test)"
   ]
  },
  {
   "cell_type": "code",
   "execution_count": 80,
   "metadata": {},
   "outputs": [],
   "source": [
    "#  creating a numpy array of dimension a x b\n",
    "# a equals to number of documnets in X_test\n",
    "# b equlas to number of features \n",
    "a=len(X_test)\n",
    "b=len(list(vocabulary.keys()))\n",
    "test_data=np.zeros((a,b))\n"
   ]
  },
  {
   "cell_type": "code",
   "execution_count": 81,
   "metadata": {},
   "outputs": [
    {
     "data": {
      "text/plain": [
       "array([[1., 1., 2., ..., 0., 0., 0.],\n",
       "       [0., 1., 1., ..., 0., 0., 0.],\n",
       "       [0., 1., 2., ..., 0., 0., 0.],\n",
       "       ...,\n",
       "       [0., 1., 1., ..., 0., 0., 0.],\n",
       "       [1., 1., 1., ..., 0., 0., 0.],\n",
       "       [1., 1., 2., ..., 0., 0., 0.]])"
      ]
     },
     "execution_count": 81,
     "metadata": {},
     "output_type": "execute_result"
    }
   ],
   "source": [
    "# creating test_data \n",
    "i=0\n",
    "for doc in X_test:\n",
    "        word_list=doc.split()\n",
    "        for word in word_list:\n",
    "            if word in vocabulary.keys():\n",
    "                        pos_x=i\n",
    "                        pos_y=feature_list.index(word)\n",
    "                        test_data[pos_x][pos_y]=test_data[pos_x][pos_y]+1\n",
    "        i=i+1 \n",
    "test_data        "
   ]
  },
  {
   "cell_type": "code",
   "execution_count": 82,
   "metadata": {},
   "outputs": [
    {
     "data": {
      "text/plain": [
       "MultinomialNB(alpha=1.0, class_prior=None, fit_prior=True)"
      ]
     },
     "execution_count": 82,
     "metadata": {},
     "output_type": "execute_result"
    }
   ],
   "source": [
    "# using training data to train inbuilt naive bayes algorithm\n",
    "clf = MultinomialNB()\n",
    "clf.fit(train_data, Y_train)\n"
   ]
  },
  {
   "cell_type": "code",
   "execution_count": 88,
   "metadata": {},
   "outputs": [
    {
     "name": "stdout",
     "output_type": "stream",
     "text": [
      "['alt.atheism', 'comp.graphics', 'comp.os.ms-windows.misc', 'comp.sys.ibm.pc.hardware', 'comp.sys.mac.hardware', 'comp.windows.x', 'misc.forsale', 'rec.autos', 'rec.motorcycles', 'rec.sport.baseball', 'rec.sport.hockey', 'sci.crypt', 'sci.electronics', 'sci.med', 'sci.space', 'soc.religion.christian', 'talk.politics.guns', 'talk.politics.mideast', 'talk.politics.misc', 'talk.religion.misc']\n"
     ]
    }
   ],
   "source": [
    "# Y_pred from inbuilt algoriy=thm\n",
    "Y_pred=clf.predict(test_data)\n",
    "\n",
    "# converting classes from sumbols (0-19 ) to actual class names\n",
    "names_list=data1.target_names\n",
    "print(names_list)\n",
    "\n",
    "# converting Y_test\n",
    "Y_test_class=[]\n",
    "for data in Y_test:\n",
    "        Y_test_class.append(names_list[data])\n",
    "        \n",
    "#converting Y_pred \n",
    "Y_pred_class=[]\n",
    "for data in Y_pred:\n",
    "       Y_pred_class.append(names_list[data])\n",
    "        "
   ]
  },
  {
   "cell_type": "code",
   "execution_count": 93,
   "metadata": {},
   "outputs": [
    {
     "name": "stdout",
     "output_type": "stream",
     "text": [
      "score on test data from inbuilt algorithm 0.914\n",
      "\n",
      "                          precision    recall  f1-score   support\n",
      "\n",
      "             alt.atheism       0.83      0.86      0.84       100\n",
      "           comp.graphics       0.85      0.90      0.87       100\n",
      " comp.os.ms-windows.misc       0.93      0.87      0.90       100\n",
      "comp.sys.ibm.pc.hardware       0.79      0.92      0.85       100\n",
      "   comp.sys.mac.hardware       0.92      0.90      0.91       100\n",
      "          comp.windows.x       0.98      0.83      0.90       100\n",
      "            misc.forsale       0.87      0.98      0.92       100\n",
      "               rec.autos       0.98      0.97      0.97       100\n",
      "         rec.motorcycles       0.96      0.98      0.97       100\n",
      "      rec.sport.baseball       1.00      0.98      0.99       100\n",
      "        rec.sport.hockey       0.99      0.95      0.97       100\n",
      "               sci.crypt       0.98      0.97      0.97       100\n",
      "         sci.electronics       0.93      0.93      0.93       100\n",
      "                 sci.med       0.98      0.97      0.97       100\n",
      "               sci.space       0.98      0.96      0.97       100\n",
      "  soc.religion.christian       0.97      0.99      0.98       100\n",
      "      talk.politics.guns       0.86      0.93      0.89       100\n",
      "   talk.politics.mideast       0.97      0.95      0.96       100\n",
      "      talk.politics.misc       0.83      0.72      0.77       100\n",
      "      talk.religion.misc       0.73      0.72      0.73       100\n",
      "\n",
      "               micro avg       0.91      0.91      0.91      2000\n",
      "               macro avg       0.92      0.91      0.91      2000\n",
      "            weighted avg       0.92      0.91      0.91      2000\n",
      "\n",
      "[[86  0  0  0  0  0  0  1  0  0  0  0  0  0  0  1  0  0  1 11]\n",
      " [ 0 90  3  4  0  0  1  0  0  0  0  0  2  0  0  0  0  0  0  0]\n",
      " [ 0  1 87  7  0  2  2  0  0  0  0  0  1  0  0  0  0  0  0  0]\n",
      " [ 0  1  0 92  4  0  3  0  0  0  0  0  0  0  0  0  0  0  0  0]\n",
      " [ 0  0  1  8 90  0  1  0  0  0  0  0  0  0  0  0  0  0  0  0]\n",
      " [ 0  7  3  3  1 83  1  0  0  0  0  1  0  1  0  0  0  0  0  0]\n",
      " [ 0  0  0  0  0  0 98  1  0  0  0  0  1  0  0  0  0  0  0  0]\n",
      " [ 0  0  0  0  1  0  0 97  0  0  0  0  2  0  0  0  0  0  0  0]\n",
      " [ 0  0  0  0  0  0  2  0 98  0  0  0  0  0  0  0  0  0  0  0]\n",
      " [ 0  0  0  0  0  0  1  0  0 98  1  0  0  0  0  0  0  0  0  0]\n",
      " [ 0  0  0  0  0  0  1  0  1  0 95  0  0  1  1  0  0  0  1  0]\n",
      " [ 0  1  0  0  0  0  1  0  0  0  0 97  1  0  0  0  0  0  0  0]\n",
      " [ 0  2  0  2  1  0  1  0  0  0  0  0 93  0  1  0  0  0  0  0]\n",
      " [ 0  1  0  0  0  0  0  0  2  0  0  0  0 97  0  0  0  0  0  0]\n",
      " [ 0  3  0  0  1  0  0  0  0  0  0  0  0  0 96  0  0  0  0  0]\n",
      " [ 1  0  0  0  0  0  0  0  0  0  0  0  0  0  0 99  0  0  0  0]\n",
      " [ 0  0  0  0  0  0  0  0  1  0  0  1  0  0  0  0 93  0  3  2]\n",
      " [ 0  0  0  0  0  0  1  0  0  0  0  0  0  0  0  0  0 95  4  0]\n",
      " [ 0  0  0  0  0  0  0  0  0  0  0  0  0  0  0  0 12  3 72 13]\n",
      " [17  0  0  0  0  0  0  0  0  0  0  0  0  0  0  2  3  0  6 72]]\n"
     ]
    }
   ],
   "source": [
    "\n",
    "print(\"score on test data from inbuilt algorithm\",score(Y_pred_class,Y_test_class))\n",
    "print()\n",
    "print(classification_report(Y_test_class,Y_pred_class))\n",
    "print(confusion_matrix(Y_test_class,Y_pred_class))"
   ]
  },
  {
   "cell_type": "code",
   "execution_count": 45,
   "metadata": {},
   "outputs": [],
   "source": [
    "Y_pred_from_scratch=predict(final_dict,test_data)\n"
   ]
  },
  {
   "cell_type": "code",
   "execution_count": 91,
   "metadata": {},
   "outputs": [],
   "source": [
    "# converting Y_pred_scratch\n",
    "Y_pred_from_scratch_class=[]\n",
    "for data in Y_pred_from_scratch:\n",
    "       Y_pred_from_scratch_class.append(names_list[data])\n",
    "        "
   ]
  },
  {
   "cell_type": "code",
   "execution_count": 94,
   "metadata": {},
   "outputs": [
    {
     "name": "stdout",
     "output_type": "stream",
     "text": [
      "score on test data from scratch 0.914\n",
      "\n",
      "                          precision    recall  f1-score   support\n",
      "\n",
      "             alt.atheism       0.83      0.86      0.84       100\n",
      "           comp.graphics       0.85      0.90      0.87       100\n",
      " comp.os.ms-windows.misc       0.93      0.87      0.90       100\n",
      "comp.sys.ibm.pc.hardware       0.79      0.92      0.85       100\n",
      "   comp.sys.mac.hardware       0.92      0.90      0.91       100\n",
      "          comp.windows.x       0.98      0.83      0.90       100\n",
      "            misc.forsale       0.87      0.98      0.92       100\n",
      "               rec.autos       0.98      0.97      0.97       100\n",
      "         rec.motorcycles       0.96      0.98      0.97       100\n",
      "      rec.sport.baseball       1.00      0.98      0.99       100\n",
      "        rec.sport.hockey       0.99      0.95      0.97       100\n",
      "               sci.crypt       0.98      0.97      0.97       100\n",
      "         sci.electronics       0.93      0.93      0.93       100\n",
      "                 sci.med       0.98      0.97      0.97       100\n",
      "               sci.space       0.98      0.96      0.97       100\n",
      "  soc.religion.christian       0.97      0.99      0.98       100\n",
      "      talk.politics.guns       0.86      0.93      0.89       100\n",
      "   talk.politics.mideast       0.97      0.95      0.96       100\n",
      "      talk.politics.misc       0.83      0.72      0.77       100\n",
      "      talk.religion.misc       0.73      0.72      0.73       100\n",
      "\n",
      "               micro avg       0.91      0.91      0.91      2000\n",
      "               macro avg       0.92      0.91      0.91      2000\n",
      "            weighted avg       0.92      0.91      0.91      2000\n",
      "\n",
      "[[86  0  0  0  0  0  0  1  0  0  0  0  0  0  0  1  0  0  1 11]\n",
      " [ 0 90  3  4  0  0  1  0  0  0  0  0  2  0  0  0  0  0  0  0]\n",
      " [ 0  1 87  7  0  2  2  0  0  0  0  0  1  0  0  0  0  0  0  0]\n",
      " [ 0  1  0 92  4  0  3  0  0  0  0  0  0  0  0  0  0  0  0  0]\n",
      " [ 0  0  1  8 90  0  1  0  0  0  0  0  0  0  0  0  0  0  0  0]\n",
      " [ 0  7  3  3  1 83  1  0  0  0  0  1  0  1  0  0  0  0  0  0]\n",
      " [ 0  0  0  0  0  0 98  1  0  0  0  0  1  0  0  0  0  0  0  0]\n",
      " [ 0  0  0  0  1  0  0 97  0  0  0  0  2  0  0  0  0  0  0  0]\n",
      " [ 0  0  0  0  0  0  2  0 98  0  0  0  0  0  0  0  0  0  0  0]\n",
      " [ 0  0  0  0  0  0  1  0  0 98  1  0  0  0  0  0  0  0  0  0]\n",
      " [ 0  0  0  0  0  0  1  0  1  0 95  0  0  1  1  0  0  0  1  0]\n",
      " [ 0  1  0  0  0  0  1  0  0  0  0 97  1  0  0  0  0  0  0  0]\n",
      " [ 0  2  0  2  1  0  1  0  0  0  0  0 93  0  1  0  0  0  0  0]\n",
      " [ 0  1  0  0  0  0  0  0  2  0  0  0  0 97  0  0  0  0  0  0]\n",
      " [ 0  3  0  0  1  0  0  0  0  0  0  0  0  0 96  0  0  0  0  0]\n",
      " [ 1  0  0  0  0  0  0  0  0  0  0  0  0  0  0 99  0  0  0  0]\n",
      " [ 0  0  0  0  0  0  0  0  1  0  0  1  0  0  0  0 93  0  3  2]\n",
      " [ 0  0  0  0  0  0  1  0  0  0  0  0  0  0  0  0  0 95  4  0]\n",
      " [ 0  0  0  0  0  0  0  0  0  0  0  0  0  0  0  0 12  3 72 13]\n",
      " [17  0  0  0  0  0  0  0  0  0  0  0  0  0  0  2  3  0  6 72]]\n"
     ]
    }
   ],
   "source": [
    "print(\"score on test data from scratch\",score(Y_pred_from_scratch_class,Y_test_class))\n",
    "print()\n",
    "print(classification_report(Y_test_class,Y_pred_from_scratch_class))\n",
    "print(confusion_matrix(Y_test_class,Y_pred_from_scratch_class))"
   ]
  },
  {
   "cell_type": "code",
   "execution_count": null,
   "metadata": {},
   "outputs": [],
   "source": []
  },
  {
   "cell_type": "code",
   "execution_count": null,
   "metadata": {},
   "outputs": [],
   "source": []
  }
 ],
 "metadata": {
  "kernelspec": {
   "display_name": "Python 3",
   "language": "python",
   "name": "python3"
  },
  "language_info": {
   "codemirror_mode": {
    "name": "ipython",
    "version": 3
   },
   "file_extension": ".py",
   "mimetype": "text/x-python",
   "name": "python",
   "nbconvert_exporter": "python",
   "pygments_lexer": "ipython3",
   "version": "3.7.3"
  }
 },
 "nbformat": 4,
 "nbformat_minor": 2
}
